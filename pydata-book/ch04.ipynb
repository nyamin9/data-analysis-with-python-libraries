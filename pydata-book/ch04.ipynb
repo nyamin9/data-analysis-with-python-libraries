{
 "cells": [
  {
   "cell_type": "markdown",
   "metadata": {},
   "source": [
    "# Numpy  \n",
    "\n",
    "- 데이터 정리 및 정리, 하위 설정 및 필터링, 변환 및 기타 모든 종류의 계산을 위한 빠른 배열 기반 작업  \n",
    "\n",
    "\n",
    "- 정렬, 고유 및 집합 연산과 같은 일반적인 배열 알고리즘  \n",
    "\n",
    "\n",
    "- 효율적인 기술 통계 및 데이터 집계/요약  \n",
    "\n",
    "\n",
    "- 이기종 데이터 세트를 병합하고 결합하기 위한 데이터 정렬 및 관계형 데이터 조작  \n",
    "\n",
    "\n",
    "- if-elif-else분기가 있는 루프 대신 배열 표현식으로 조건 논리 표현  \n",
    "\n",
    "\n",
    "- 그룹별 데이터 조작(집계, 변환 및 함수 적용)"
   ]
  },
  {
   "cell_type": "markdown",
   "metadata": {},
   "source": [
    "### python 대용량 데이터 배율을 효율적으로 처리 가능  \n",
    "\n",
    "\n",
    "- NumPy는 내부적으로 다른 Python 내장 객체와 독립적으로 연속된 메모리 블록에 데이터를 저장함.   \n",
    "- C 언어로 작성된 NumPy의 알고리즘 라이브러리는 타입 검사나 기타 오버헤드 없이 존제하는 메모리에서 동작함.  \n",
    "- 또한 NumPy 배열은 Python 내장 시퀀스보다 훨씬 적은 메모리를 사용함.  \n",
    "\n",
    "\n",
    "- NumPy 연산은 전체에 대해 복잡한 계산을 수행함.  \n",
    "- 이는 큰 시퀀스의 경우 속도가 느릴 수 있는 Python 루프 없이 배열을 처리할 수 있음.  \n",
    "- NumPy는 C 기반 알고리즘을 사용하여 일반적인 인터프리트 Python 코드에서 발생하는 오버헤드를 피하기 때문에 일반 Python 코드보다 빠름.  \n"
   ]
  },
  {
   "cell_type": "code",
   "execution_count": 2,
   "metadata": {},
   "outputs": [],
   "source": [
    "import numpy as np\n",
    "np.random.seed(12345)\n",
    "\n",
    "import matplotlib.pyplot as plt\n",
    "plt.rc(\"figure\", figsize=(10, 6))\n",
    "\n",
    "np.set_printoptions(precision=4, suppress=True)"
   ]
  },
  {
   "cell_type": "code",
   "execution_count": 6,
   "metadata": {},
   "outputs": [
    {
     "name": "stdout",
     "output_type": "stream",
     "text": [
      "544 μs ± 16.3 μs per loop (mean ± std. dev. of 7 runs, 1,000 loops each)\n",
      "13.2 ms ± 223 μs per loop (mean ± std. dev. of 7 runs, 100 loops each)\n"
     ]
    }
   ],
   "source": [
    "# NumPy 기반 알고리즘은 일반적으로 Python 알고리즘보다 10~100배(혹은 그 이상) 더 빠르고 메모리 사용량도 훨씬 적음.\n",
    "\n",
    "my_arr = np.arange(1_000_000)\n",
    "my_list = list(range(1_000_000))\n",
    "\n",
    "%timeit my_arr2 = my_arr * 2\n",
    "%timeit my_list2 = [x * 2 for x in my_list]"
   ]
  },
  {
   "cell_type": "markdown",
   "metadata": {},
   "source": [
    "## 1. NumPy ndarray: 다차원 배열 객체  \n",
    "\n",
    "- ndarray : 대용량 데이터셋을 위한 컨테이너 (N차원 배열 객체)  \n",
    "- 스칼라 간의 동등한 연산과 유사 구문을 사용하여전체 데이터 블록에 대한 수학 연산 수행 가능  \n",
    "- 동일 자료형의 데이터를 위한 일반적인 컨테이너임.  \n",
    "\n",
    "\n",
    "### 1.1. 배열 함수  \n",
    "\n",
    "- ndarray.shape : 차원의 크기를 나타내는 튜플  \n",
    "- ndarray.dtype : 배열의 데이터 유형을 나타내는 객체  \n",
    "- ndarray.ndim : 차원을 나타내는 메소드  \n",
    "\n",
    "- np.array(data, dtype=) : 배열 생성 > 동일 길이의 중첩 리스트는 다차원 배열로 변환됨  \n",
    "- np.asarray : 입력을 ndarray로 변환. 입력이 이미 ndarray인 경우 복사하지 않음. \n",
    "\n",
    "- np.zeros(shape) : 0으로 구성된 배열을 주어진 길이나 모양으로 생성  \n",
    "- np.zeros_like(ndarray) : 다른 배열과 동일한 shape의 0으로 구성된 배열을 생성.  \n",
    "\n",
    "- np.ones(shape) : 1로 구성된 배열을 주어진 길이나 모양으로 생성  \n",
    "- np.ones_like(ndarray) : 다른 배열과 동일한 shape의 1로 구성된 배열을 생성.  \n",
    "\n",
    "- np.empty(shape) : 특정 값으로 초기화화지 않고 임의의 값으로 배열을 초기화  \n",
    "- np.empty_like(ndarray) : 다른 배열과 동일한 shape의 임의의 값으로 구성된 배열을 생성.  \n",
    "\n",
    "- np.full(shape, value) : 특정 값으로 구성된 배열을 주어진 길이나 모양으로 생성.  \n",
    "- np.full_like(ndarray) : 다른 배열과 동일한 shape의 특정 값으로 구성된 배열을 생성.  \n",
    "\n",
    "- np.eye(shape) : 대각선은 1이고 나머지는 0인 M * N 행렬 생성.  \n",
    "- np.identity : 대각선은 1이고 나머지는 0인 정사각 행렬 생성.    \n",
    "\n",
    "- np.arange() : ndarray 반환  \n",
    "\n",
    "- ndarray.astype(np.dtype) : 배열의 자료형 변환 > astye 호출 시 항상 새로운 배열(복사본)이 생성됨.  \n",
    "\n",
    "\n",
    "### 1.2. 배열을 사용한 산술  \n",
    "\n",
    "- for 루프를 사용하지 않고 데이터를 변환 > 벡터화  \n",
    "- 동일 크기 배열 간의 모든 산술 연산을 요소별로 다음 연산을 적용함.  \n",
    "- 스칼라를 사용한 연산의 경우, 스칼라 인수를 배열의 각 요소에 적용함.  \n",
    "- 동일 크키의 배열 비교 시 boolean 배열 생성됨.  \n",
    "\n",
    "- 크키가 다른 배열 간의 연산 : broadcasting  \n",
    "\n",
    "\n",
    "### 1.3. 배열 인덱싱 및 슬라이싱  \n",
    "\n",
    "- 데이터의 하위 집합이나 개별 요소를 선택하고 싶은 경우 사용.  \n",
    "\n",
    "- ndarray[scalar:scalar]\n",
    "- 슬라이싱 객체에 값을 할당하는 경우 (arr[5:8] = 12) 원본 배열에 그대로 반영됨.  \n",
    "- ⭐️ 또는, 슬라이싱 객체를 수정하는 경우에도 원본 배열에 그대로 반영됨.  \n",
    "    - 반면 일반 python 객체의 경우 새로운 객체가 생성되기 때문에 원본에 그대로 반영되지 않음.  \n",
    "- 인덱싱 요소를 비워두는 경우 모든 값을 가져오거나 반영함.  \n",
    "\n",
    "\n",
    "- 🤔 왜 일반 python 객체와 다르게 작용하는 것인가? \n",
    "- NumPy는 매우 큰 배열을 처리할 수 있도록 설계되었음.  \n",
    "- 즉, NumPy가 항상 데이터를 복사하도록 고집한다면 성능과 메모리 문제가 발생할 수 있음.  \n",
    "- 따라서 원본 데이터를 유지한 상태로 다양한 뷰를 메모리에서 가져와 제공하는 것이 유용함.  \n",
    "- 데이터 자체는 한번만 메모리에 할당하며, 메타데이터만 다르게 설정함. 실제 원본 데이터는 항상 떠있는 메모리의 데이터를 공유함.  \n",
    "- 정리하자면,  \n",
    "    - NumPy의 메모리 관리 방식:  \n",
    "        - 데이터 저장: 실제 숫자들은 한 번만 메모리에 할당  \n",
    "        - 뷰 생성: 메타데이터만 다르게 설정하여 다양한 접근 방식 제공  \n",
    "        - 메모리 공유: 모든 뷰가 같은 데이터 블록을 참조  \n",
    "        - 효율성: 데이터 복사 없이 다양한 연산 가능  \n",
    "        - 비유하면:  \n",
    "            - 데이터: 책의 내용 (한 번만 인쇄)  \n",
    "            - 뷰: 책갈피, 목차, 색인 (같은 내용을 다르게 접근)  \n",
    "            - 복사: 책을 다시 인쇄 (새로운 메모리 할당)  \n",
    "    - 이렇게 NumPy는 \"데이터는 한 번, 접근은 다양하게\" 하는 효율적인 시스템을 제공.  \n",
    "\n",
    "    - NumPy의 인덱싱:  \n",
    "        - ✅ 뷰 생성: 메타데이터만 다르게 설정  \n",
    "        - ✅ 메모리 공유: 같은 데이터 블록 참조  \n",
    "        - ✅ 실시간 동기화: 수정 시 양방향 반영  \n",
    "        - ✅ 메모리 효율적: 데이터 복사 없음    \n",
    "\n",
    "    - 일반 Python의 인덱싱:  \n",
    "        - ❌ 복사 생성: 새로운 객체 생성  \n",
    "        - ❌ 메모리 분리: 각각 다른 메모리 영역  \n",
    "        - ❌ 독립적 동작: 수정 시 서로 영향 없음  \n",
    "        - ❌ 메모리 비효율적: 데이터 복사 발생\n",
    "        \n",
    "    - 핵심:  \n",
    "        - NumPy: 인덱싱 = \"같은 데이터를 다르게 보는 뷰\"  \n",
    "        - 일반 Python: 인덱싱 = \"데이터를 복사해서 새로운 객체 생성\"  \n",
    "        \n",
    "    - 이렇게 NumPy는 \"인덱싱을 뷰 생성으로\", 일반 Python은 \"인덱싱을 복사 생성으로\" 완전히 다르게 처리  \n",
    "\n",
    "\n",
    "\n",
    "- 1차원 베열 인덱싱/슬라이싱 : python 리스트 객체에 대한 인덱싱과 동일하게 작용함.  \n",
    "- 2차원 배열 인덱싱/슬라이싱 : ndarray[row_indexing, cloumn_indexing]  \n",
    "\n",
    "\n",
    "### 1.4. 부울 인덱싱  \n",
    "\n",
    "- 부울 인덱싱 : ndarray와 특정 스칼라 값의 비교를 통해 boolean 벡터를 받아오고, 이를 다른 ndarray의 동일 위치와 비교하여 인덱싱 연산을 수행함.  \n",
    "    - 인덱싱하는 배열 축과 동일 길이의 배열이어야 함.  \n",
    "    - 또는 비교 결과를 저장하는 boolean array를 만들어두고, 이를 바탕으로 인덱싱 연산을 하도록 하는 경우도 많음.  \n",
    "        - 예제  \n",
    "            - cond = names_array == 'Bob'  \n",
    "            - numbers_array[~cond]  \n",
    "    - and, or는 boolean array와 호환되지 않음. &, | 를 사용할 것.  \n",
    "\n",
    "\n",
    "### 1.5. Fancy 인덱싱  \n",
    "\n",
    "- ndarray[[row_indexing], [column_indexing]]  \n",
    "- 예제  \n",
    "    - arr[[1, 5, 7, 2], [0, 3, 1, 2]]  \n",
    "\n",
    "- 일반 슬라이싱과의 차이점  \n",
    "    - 일반 슬라이싱  \n",
    "        - ✅ 뷰 생성: 원본과 메모리 공유  \n",
    "        - ✅ 양방향 반영: 뷰 수정 → 원본 변경, 원본 수정 → 뷰 변경  \n",
    "        - ✅ 메모리 효율적: 데이터 복사 없음  \n",
    "\n",
    "    - Fancy Indexing:  \n",
    "        - ❌ 복사 생성: 원본과 완전히 분리  \n",
    "        - ❌ 단방향 독립: 복사된 배열 수정 → 원본 미반영  \n",
    "        - ❌ 메모리 비효율적: 데이터 복사 발생  \n",
    "\n",
    "    - 왜 이런 차이가 발생하는가?  \n",
    "        - 기술적 이유  \n",
    "            - 연속적 데이터: 슬라이싱은 메모리에서 연속된 부분을 선택할 수 있어 뷰 생성 가능  \n",
    "            - 비연속적 데이터: Fancy indexing은 메모리에서 흩어진 위치를 선택하므로 뷰 생성 불가능  \n",
    "        - 메모리 효율성  \n",
    "            - 연속된 데이터는 stride(간격)만 조정하면 다양한 뷰 생성 가능  \n",
    "            - 비연속된 데이터는 각각의 위치를 개별적으로 참조해야 하므로 복사가 필요    \n",
    "\n",
    "    - 정리  \n",
    "        - 일반 슬라이싱: \"같은 데이터를 다르게 보는 뷰\" → 메모리 공유 → 수정 시 양방향 반영  \n",
    "        - Fancy Indexing: \"데이터를 복사해서 새로운 객체 생성\" → 메모리 분리 → 수정 시 단방향 독립    \n",
    "\n",
    "    - 비유:  \n",
    "        - 슬라이싱: 같은 사진을 다르게 자른 것 (원본 사진과 연결됨)  \n",
    "        - Fancy Indexing: 사진의 일부를 복사해서 새로운 사진 만든 것 (원본과 완전히 분리됨)  \n",
    "\n",
    "\n",
    "### 1.6. 배열 전치  \n",
    "- ndarray.T  \n",
    "- ndarray.swapaxes(0, 1)  \n",
    "- 두 함수 모두 복사본을 만들지 않고 원본 데이터에 대한 뷰를 반환함.  \n"
   ]
  },
  {
   "cell_type": "markdown",
   "metadata": {},
   "source": [
    "### 1.1. 배열 함수"
   ]
  },
  {
   "cell_type": "code",
   "execution_count": 7,
   "metadata": {},
   "outputs": [
    {
     "data": {
      "text/plain": [
       "array([[ 1.5, -0.1,  3. ],\n",
       "       [ 0. , -3. ,  6.5]])"
      ]
     },
     "execution_count": 7,
     "metadata": {},
     "output_type": "execute_result"
    }
   ],
   "source": [
    "data = np.array([[1.5, -0.1, 3], [0, -3, 6.5]])\n",
    "data"
   ]
  },
  {
   "cell_type": "code",
   "execution_count": 9,
   "metadata": {},
   "outputs": [
    {
     "data": {
      "text/plain": [
       "array([[ 15.,  -1.,  30.],\n",
       "       [  0., -30.,  65.]])"
      ]
     },
     "execution_count": 9,
     "metadata": {},
     "output_type": "execute_result"
    }
   ],
   "source": [
    "data * 10"
   ]
  },
  {
   "cell_type": "code",
   "execution_count": 10,
   "metadata": {},
   "outputs": [
    {
     "data": {
      "text/plain": [
       "array([[ 3. , -0.2,  6. ],\n",
       "       [ 0. , -6. , 13. ]])"
      ]
     },
     "execution_count": 10,
     "metadata": {},
     "output_type": "execute_result"
    }
   ],
   "source": [
    "data + data"
   ]
  },
  {
   "cell_type": "code",
   "execution_count": 12,
   "metadata": {},
   "outputs": [
    {
     "data": {
      "text/plain": [
       "(2, 3)"
      ]
     },
     "execution_count": 12,
     "metadata": {},
     "output_type": "execute_result"
    }
   ],
   "source": [
    "data.shape"
   ]
  },
  {
   "cell_type": "code",
   "execution_count": 13,
   "metadata": {},
   "outputs": [
    {
     "data": {
      "text/plain": [
       "dtype('float64')"
      ]
     },
     "execution_count": 13,
     "metadata": {},
     "output_type": "execute_result"
    }
   ],
   "source": [
    "data.dtype"
   ]
  },
  {
   "cell_type": "code",
   "execution_count": 14,
   "metadata": {},
   "outputs": [
    {
     "data": {
      "text/plain": [
       "array([6. , 7.5, 8. , 0. , 1. ])"
      ]
     },
     "execution_count": 14,
     "metadata": {},
     "output_type": "execute_result"
    }
   ],
   "source": [
    "data1 = [6, 7.5, 8, 0, 1]\n",
    "arr1 = np.array(data1)\n",
    "arr1"
   ]
  },
  {
   "cell_type": "code",
   "execution_count": 15,
   "metadata": {},
   "outputs": [
    {
     "data": {
      "text/plain": [
       "array([[1, 2, 3, 4],\n",
       "       [5, 6, 7, 8]])"
      ]
     },
     "execution_count": 15,
     "metadata": {},
     "output_type": "execute_result"
    }
   ],
   "source": [
    "data2 = [[1, 2, 3, 4], [5, 6, 7, 8]]\n",
    "arr2 = np.array(data2)\n",
    "arr2"
   ]
  },
  {
   "cell_type": "code",
   "execution_count": 16,
   "metadata": {},
   "outputs": [
    {
     "data": {
      "text/plain": [
       "(2, 4)"
      ]
     },
     "execution_count": 16,
     "metadata": {},
     "output_type": "execute_result"
    }
   ],
   "source": [
    "arr2.ndim\n",
    "arr2.shape"
   ]
  },
  {
   "cell_type": "code",
   "execution_count": 17,
   "metadata": {},
   "outputs": [
    {
     "data": {
      "text/plain": [
       "dtype('int64')"
      ]
     },
     "execution_count": 17,
     "metadata": {},
     "output_type": "execute_result"
    }
   ],
   "source": [
    "arr1.dtype\n",
    "arr2.dtype"
   ]
  },
  {
   "cell_type": "code",
   "execution_count": 19,
   "metadata": {},
   "outputs": [
    {
     "data": {
      "text/plain": [
       "array([0., 0., 0., 0., 0., 0., 0., 0., 0., 0.])"
      ]
     },
     "execution_count": 19,
     "metadata": {},
     "output_type": "execute_result"
    }
   ],
   "source": [
    "np.zeros(10)"
   ]
  },
  {
   "cell_type": "code",
   "execution_count": 20,
   "metadata": {},
   "outputs": [
    {
     "data": {
      "text/plain": [
       "array([[0., 0., 0., 0., 0., 0.],\n",
       "       [0., 0., 0., 0., 0., 0.],\n",
       "       [0., 0., 0., 0., 0., 0.]])"
      ]
     },
     "execution_count": 20,
     "metadata": {},
     "output_type": "execute_result"
    }
   ],
   "source": [
    "np.zeros((3, 6))"
   ]
  },
  {
   "cell_type": "code",
   "execution_count": 21,
   "metadata": {},
   "outputs": [
    {
     "data": {
      "text/plain": [
       "array([[[0., 0.],\n",
       "        [0., 0.],\n",
       "        [0., 0.]],\n",
       "\n",
       "       [[0., 0.],\n",
       "        [0., 0.],\n",
       "        [0., 0.]]])"
      ]
     },
     "execution_count": 21,
     "metadata": {},
     "output_type": "execute_result"
    }
   ],
   "source": [
    "np.empty((2, 3, 2))"
   ]
  },
  {
   "cell_type": "code",
   "execution_count": 22,
   "metadata": {},
   "outputs": [
    {
     "data": {
      "text/plain": [
       "array([ 0,  1,  2,  3,  4,  5,  6,  7,  8,  9, 10, 11, 12, 13, 14])"
      ]
     },
     "execution_count": 22,
     "metadata": {},
     "output_type": "execute_result"
    }
   ],
   "source": [
    "np.arange(15)"
   ]
  },
  {
   "cell_type": "code",
   "execution_count": 23,
   "metadata": {},
   "outputs": [
    {
     "data": {
      "text/plain": [
       "dtype('float64')"
      ]
     },
     "execution_count": 23,
     "metadata": {},
     "output_type": "execute_result"
    }
   ],
   "source": [
    "arr1 = np.array([1, 2, 3], dtype=np.float64)\n",
    "arr1.dtype"
   ]
  },
  {
   "cell_type": "code",
   "execution_count": 24,
   "metadata": {},
   "outputs": [
    {
     "data": {
      "text/plain": [
       "dtype('int32')"
      ]
     },
     "execution_count": 24,
     "metadata": {},
     "output_type": "execute_result"
    }
   ],
   "source": [
    "arr2 = np.array([1, 2, 3], dtype=np.int32)\n",
    "arr2.dtype"
   ]
  },
  {
   "cell_type": "code",
   "execution_count": 25,
   "metadata": {},
   "outputs": [
    {
     "data": {
      "text/plain": [
       "dtype('int64')"
      ]
     },
     "execution_count": 25,
     "metadata": {},
     "output_type": "execute_result"
    }
   ],
   "source": [
    "arr = np.array([1, 2, 3, 4, 5])\n",
    "arr.dtype"
   ]
  },
  {
   "cell_type": "code",
   "execution_count": 27,
   "metadata": {},
   "outputs": [
    {
     "data": {
      "text/plain": [
       "dtype('float64')"
      ]
     },
     "execution_count": 27,
     "metadata": {},
     "output_type": "execute_result"
    }
   ],
   "source": [
    "float_arr = arr.astype(np.float64)\n",
    "float_arr.dtype"
   ]
  },
  {
   "cell_type": "code",
   "execution_count": 28,
   "metadata": {},
   "outputs": [
    {
     "data": {
      "text/plain": [
       "array([ 3.7, -1.2, -2.6,  0.5, 12.9, 10.1])"
      ]
     },
     "execution_count": 28,
     "metadata": {},
     "output_type": "execute_result"
    }
   ],
   "source": [
    "arr = np.array([3.7, -1.2, -2.6, 0.5, 12.9, 10.1])\n",
    "arr"
   ]
  },
  {
   "cell_type": "code",
   "execution_count": 31,
   "metadata": {},
   "outputs": [
    {
     "data": {
      "text/plain": [
       "array([ 3.7, -1.2, -2.6,  0.5, 12.9, 10.1])"
      ]
     },
     "execution_count": 31,
     "metadata": {},
     "output_type": "execute_result"
    }
   ],
   "source": [
    "arr.astype(np.int32)\n",
    "arr"
   ]
  },
  {
   "cell_type": "code",
   "execution_count": 33,
   "metadata": {},
   "outputs": [
    {
     "data": {
      "text/plain": [
       "array([b'1.25', b'-9.6', b'42'], dtype='|S4')"
      ]
     },
     "execution_count": 33,
     "metadata": {},
     "output_type": "execute_result"
    }
   ],
   "source": [
    "# numeric_strings = np.array([\"1.25\", \"-9.6\", \"42\"], dtype=np.string_)\n",
    "numeric_strings = np.array([\"1.25\", \"-9.6\", \"42\"], dtype=np.bytes_)\n",
    "numeric_strings"
   ]
  },
  {
   "cell_type": "code",
   "execution_count": 34,
   "metadata": {},
   "outputs": [
    {
     "data": {
      "text/plain": [
       "array([ 1.25, -9.6 , 42.  ])"
      ]
     },
     "execution_count": 34,
     "metadata": {},
     "output_type": "execute_result"
    }
   ],
   "source": [
    "numeric_strings.astype(float)"
   ]
  },
  {
   "cell_type": "code",
   "execution_count": 35,
   "metadata": {},
   "outputs": [
    {
     "data": {
      "text/plain": [
       "array([0., 1., 2., 3., 4., 5., 6., 7., 8., 9.])"
      ]
     },
     "execution_count": 35,
     "metadata": {},
     "output_type": "execute_result"
    }
   ],
   "source": [
    "int_array = np.arange(10)\n",
    "calibers = np.array([.22, .270, .357, .380, .44, .50], dtype=np.float64)\n",
    "int_array.astype(calibers.dtype)"
   ]
  },
  {
   "cell_type": "code",
   "execution_count": 36,
   "metadata": {},
   "outputs": [
    {
     "data": {
      "text/plain": [
       "array([0, 0, 0, 0, 0, 0, 0, 0], dtype=uint32)"
      ]
     },
     "execution_count": 36,
     "metadata": {},
     "output_type": "execute_result"
    }
   ],
   "source": [
    "zeros_uint32 = np.zeros(8, dtype=\"u4\")\n",
    "zeros_uint32"
   ]
  },
  {
   "cell_type": "code",
   "execution_count": 37,
   "metadata": {},
   "outputs": [
    {
     "data": {
      "text/plain": [
       "array([[1., 2., 3.],\n",
       "       [4., 5., 6.]])"
      ]
     },
     "execution_count": 37,
     "metadata": {},
     "output_type": "execute_result"
    }
   ],
   "source": [
    "arr = np.array([[1., 2., 3.], [4., 5., 6.]])\n",
    "arr"
   ]
  },
  {
   "cell_type": "markdown",
   "metadata": {},
   "source": [
    "### 1.2. 배열을 이용한 산술"
   ]
  },
  {
   "cell_type": "code",
   "execution_count": 38,
   "metadata": {},
   "outputs": [
    {
     "name": "stdout",
     "output_type": "stream",
     "text": [
      "[[ 1.  4.  9.]\n",
      " [16. 25. 36.]]\n",
      "[[0. 0. 0.]\n",
      " [0. 0. 0.]]\n",
      "[[1.     0.5    0.3333]\n",
      " [0.25   0.2    0.1667]]\n",
      "[[ 1.  4.  9.]\n",
      " [16. 25. 36.]]\n"
     ]
    }
   ],
   "source": [
    "print(arr * arr)\n",
    "print(arr - arr)\n",
    "print(1 / arr)\n",
    "print(arr ** 2)"
   ]
  },
  {
   "cell_type": "code",
   "execution_count": 39,
   "metadata": {},
   "outputs": [
    {
     "data": {
      "text/plain": [
       "array([[ 0.,  4.,  1.],\n",
       "       [ 7.,  2., 12.]])"
      ]
     },
     "execution_count": 39,
     "metadata": {},
     "output_type": "execute_result"
    }
   ],
   "source": [
    "arr2 = np.array([[0., 4., 1.], [7., 2., 12.]])\n",
    "arr2"
   ]
  },
  {
   "cell_type": "code",
   "execution_count": 40,
   "metadata": {},
   "outputs": [
    {
     "data": {
      "text/plain": [
       "array([[False,  True, False],\n",
       "       [ True, False,  True]])"
      ]
     },
     "execution_count": 40,
     "metadata": {},
     "output_type": "execute_result"
    }
   ],
   "source": [
    "arr2 > arr"
   ]
  },
  {
   "cell_type": "markdown",
   "metadata": {},
   "source": [
    "### 1.3. 배열 인덱싱 및 슬라이싱"
   ]
  },
  {
   "cell_type": "code",
   "execution_count": 42,
   "metadata": {},
   "outputs": [
    {
     "name": "stdout",
     "output_type": "stream",
     "text": [
      "[0 1 2 3 4 5 6 7 8 9]\n",
      "5\n",
      "[5 6 7]\n",
      "[ 0  1  2  3  4 12 12 12  8  9]\n"
     ]
    }
   ],
   "source": [
    "arr = np.arange(10)\n",
    "print(arr)\n",
    "print(arr[5])\n",
    "print(arr[5:8])\n",
    "\n",
    "arr[5:8] = 12\n",
    "print(arr)"
   ]
  },
  {
   "cell_type": "code",
   "execution_count": 43,
   "metadata": {},
   "outputs": [
    {
     "data": {
      "text/plain": [
       "array([12, 12, 12])"
      ]
     },
     "execution_count": 43,
     "metadata": {},
     "output_type": "execute_result"
    }
   ],
   "source": [
    "arr_slice = arr[5:8]\n",
    "arr_slice"
   ]
  },
  {
   "cell_type": "code",
   "execution_count": 44,
   "metadata": {},
   "outputs": [
    {
     "data": {
      "text/plain": [
       "array([    0,     1,     2,     3,     4,    12, 12345,    12,     8,\n",
       "           9])"
      ]
     },
     "execution_count": 44,
     "metadata": {},
     "output_type": "execute_result"
    }
   ],
   "source": [
    "arr_slice[1] = 12345\n",
    "arr"
   ]
  },
  {
   "cell_type": "code",
   "execution_count": 45,
   "metadata": {},
   "outputs": [
    {
     "data": {
      "text/plain": [
       "array([ 0,  1,  2,  3,  4, 64, 64, 64,  8,  9])"
      ]
     },
     "execution_count": 45,
     "metadata": {},
     "output_type": "execute_result"
    }
   ],
   "source": [
    "arr_slice[:] = 64\n",
    "arr"
   ]
  },
  {
   "cell_type": "code",
   "execution_count": 46,
   "metadata": {},
   "outputs": [
    {
     "data": {
      "text/plain": [
       "array([7, 8, 9])"
      ]
     },
     "execution_count": 46,
     "metadata": {},
     "output_type": "execute_result"
    }
   ],
   "source": [
    "arr2d = np.array([[1, 2, 3], [4, 5, 6], [7, 8, 9]])\n",
    "arr2d[2]"
   ]
  },
  {
   "cell_type": "code",
   "execution_count": 48,
   "metadata": {},
   "outputs": [
    {
     "name": "stdout",
     "output_type": "stream",
     "text": [
      "3\n",
      "3\n"
     ]
    }
   ],
   "source": [
    "print(arr2d[0][2])\n",
    "print(arr2d[0, 2])"
   ]
  },
  {
   "cell_type": "code",
   "execution_count": 49,
   "metadata": {},
   "outputs": [
    {
     "data": {
      "text/plain": [
       "array([[[ 1,  2,  3],\n",
       "        [ 4,  5,  6]],\n",
       "\n",
       "       [[ 7,  8,  9],\n",
       "        [10, 11, 12]]])"
      ]
     },
     "execution_count": 49,
     "metadata": {},
     "output_type": "execute_result"
    }
   ],
   "source": [
    "arr3d = np.array([[[1, 2, 3], [4, 5, 6]], [[7, 8, 9], [10, 11, 12]]])\n",
    "arr3d"
   ]
  },
  {
   "cell_type": "code",
   "execution_count": 50,
   "metadata": {},
   "outputs": [
    {
     "data": {
      "text/plain": [
       "array([[1, 2, 3],\n",
       "       [4, 5, 6]])"
      ]
     },
     "execution_count": 50,
     "metadata": {},
     "output_type": "execute_result"
    }
   ],
   "source": [
    "arr3d[0]"
   ]
  },
  {
   "cell_type": "code",
   "execution_count": 54,
   "metadata": {},
   "outputs": [
    {
     "name": "stdout",
     "output_type": "stream",
     "text": [
      "[[[42 42 42]\n",
      "  [42 42 42]]\n",
      "\n",
      " [[ 7  8  9]\n",
      "  [10 11 12]]] \n",
      "\n",
      "\n",
      "[[[ 1  2  3]\n",
      "  [ 4  5  6]]\n",
      "\n",
      " [[ 7  8  9]\n",
      "  [10 11 12]]]\n"
     ]
    }
   ],
   "source": [
    "old_values = arr3d[0].copy() # 원본 값에 대한 복사본 생성\n",
    "\n",
    "arr3d[0] = 42\n",
    "print(arr3d, '\\n\\n')\n",
    "\n",
    "arr3d[0] = old_values\n",
    "print(arr3d)"
   ]
  },
  {
   "cell_type": "code",
   "execution_count": 55,
   "metadata": {},
   "outputs": [
    {
     "data": {
      "text/plain": [
       "array([7, 8, 9])"
      ]
     },
     "execution_count": 55,
     "metadata": {},
     "output_type": "execute_result"
    }
   ],
   "source": [
    "arr3d[1, 0]"
   ]
  },
  {
   "cell_type": "code",
   "execution_count": 56,
   "metadata": {},
   "outputs": [
    {
     "data": {
      "text/plain": [
       "array([7, 8, 9])"
      ]
     },
     "execution_count": 56,
     "metadata": {},
     "output_type": "execute_result"
    }
   ],
   "source": [
    "x = arr3d[1]\n",
    "x[0]"
   ]
  },
  {
   "cell_type": "code",
   "execution_count": 57,
   "metadata": {},
   "outputs": [
    {
     "data": {
      "text/plain": [
       "array([ 1,  2,  3,  4, 64])"
      ]
     },
     "execution_count": 57,
     "metadata": {},
     "output_type": "execute_result"
    }
   ],
   "source": [
    "arr\n",
    "arr[1:6]"
   ]
  },
  {
   "cell_type": "code",
   "execution_count": 58,
   "metadata": {},
   "outputs": [
    {
     "data": {
      "text/plain": [
       "array([[1, 2, 3],\n",
       "       [4, 5, 6]])"
      ]
     },
     "execution_count": 58,
     "metadata": {},
     "output_type": "execute_result"
    }
   ],
   "source": [
    "arr2d\n",
    "arr2d[:2]"
   ]
  },
  {
   "cell_type": "code",
   "execution_count": 59,
   "metadata": {},
   "outputs": [
    {
     "data": {
      "text/plain": [
       "array([[2, 3],\n",
       "       [5, 6]])"
      ]
     },
     "execution_count": 59,
     "metadata": {},
     "output_type": "execute_result"
    }
   ],
   "source": [
    "arr2d[:2, 1:]"
   ]
  },
  {
   "cell_type": "code",
   "execution_count": 62,
   "metadata": {},
   "outputs": [
    {
     "data": {
      "text/plain": [
       "array([4, 5])"
      ]
     },
     "execution_count": 62,
     "metadata": {},
     "output_type": "execute_result"
    }
   ],
   "source": [
    "lower_dim_slice = arr2d[1, :2]\n",
    "lower_dim_slice.shape\n",
    "lower_dim_slice"
   ]
  },
  {
   "cell_type": "code",
   "execution_count": 63,
   "metadata": {},
   "outputs": [
    {
     "data": {
      "text/plain": [
       "array([3, 6])"
      ]
     },
     "execution_count": 63,
     "metadata": {},
     "output_type": "execute_result"
    }
   ],
   "source": [
    "arr2d[:2, 2]"
   ]
  },
  {
   "cell_type": "code",
   "execution_count": 64,
   "metadata": {},
   "outputs": [
    {
     "data": {
      "text/plain": [
       "array([[1],\n",
       "       [4],\n",
       "       [7]])"
      ]
     },
     "execution_count": 64,
     "metadata": {},
     "output_type": "execute_result"
    }
   ],
   "source": [
    "arr2d[:, :1]"
   ]
  },
  {
   "cell_type": "code",
   "execution_count": 65,
   "metadata": {},
   "outputs": [
    {
     "data": {
      "text/plain": [
       "array([[1, 0, 0],\n",
       "       [4, 0, 0],\n",
       "       [7, 8, 9]])"
      ]
     },
     "execution_count": 65,
     "metadata": {},
     "output_type": "execute_result"
    }
   ],
   "source": [
    "arr2d[:2, 1:] = 0\n",
    "arr2d"
   ]
  },
  {
   "cell_type": "markdown",
   "metadata": {},
   "source": [
    "### 1.4. 부울 인덱싱"
   ]
  },
  {
   "cell_type": "code",
   "execution_count": 80,
   "metadata": {},
   "outputs": [
    {
     "name": "stdout",
     "output_type": "stream",
     "text": [
      "['Bob' 'Joe' 'Will' 'Bob' 'Will' 'Joe' 'Joe'] \n",
      "\n",
      "\n",
      "[[  4   7]\n",
      " [  0   2]\n",
      " [ -5   6]\n",
      " [  0   0]\n",
      " [  1   2]\n",
      " [-12  -4]\n",
      " [  3   4]]\n"
     ]
    }
   ],
   "source": [
    "names = np.array([\"Bob\", \"Joe\", \"Will\", \"Bob\", \"Will\", \"Joe\", \"Joe\"])\n",
    "data = np.array([[4, 7], [0, 2], [-5, 6], [0, 0], [1, 2],\n",
    "                 [-12, -4], [3, 4]])\n",
    "print(names, '\\n\\n')\n",
    "print(data)"
   ]
  },
  {
   "cell_type": "code",
   "execution_count": 81,
   "metadata": {},
   "outputs": [
    {
     "data": {
      "text/plain": [
       "array([ True, False, False,  True, False, False, False])"
      ]
     },
     "execution_count": 81,
     "metadata": {},
     "output_type": "execute_result"
    }
   ],
   "source": [
    "names == \"Bob\""
   ]
  },
  {
   "cell_type": "code",
   "execution_count": 82,
   "metadata": {},
   "outputs": [
    {
     "data": {
      "text/plain": [
       "array([[4, 7],\n",
       "       [0, 0]])"
      ]
     },
     "execution_count": 82,
     "metadata": {},
     "output_type": "execute_result"
    }
   ],
   "source": [
    "data[names == \"Bob\"]"
   ]
  },
  {
   "cell_type": "code",
   "execution_count": 83,
   "metadata": {},
   "outputs": [
    {
     "name": "stdout",
     "output_type": "stream",
     "text": [
      "[[7]\n",
      " [0]] \n",
      "\n",
      "\n",
      "[7 0]\n"
     ]
    }
   ],
   "source": [
    "print(data[names == \"Bob\", 1:], '\\n\\n') # 해당 차원의 모든 요소를 선택 -> 차원 유지, 2차원 배열 반환\n",
    "print(data[names == \"Bob\", 1]) # 해당 차원의 특정 요소를 선택 -> 차원 유지, 1차원 배열 반환"
   ]
  },
  {
   "cell_type": "code",
   "execution_count": 84,
   "metadata": {},
   "outputs": [
    {
     "data": {
      "text/plain": [
       "array([[  0,   2],\n",
       "       [ -5,   6],\n",
       "       [  1,   2],\n",
       "       [-12,  -4],\n",
       "       [  3,   4]])"
      ]
     },
     "execution_count": 84,
     "metadata": {},
     "output_type": "execute_result"
    }
   ],
   "source": [
    "names != \"Bob\"\n",
    "~(names == \"Bob\")\n",
    "data[~(names == \"Bob\")]"
   ]
  },
  {
   "cell_type": "code",
   "execution_count": 85,
   "metadata": {},
   "outputs": [
    {
     "data": {
      "text/plain": [
       "array([[  0,   2],\n",
       "       [ -5,   6],\n",
       "       [  1,   2],\n",
       "       [-12,  -4],\n",
       "       [  3,   4]])"
      ]
     },
     "execution_count": 85,
     "metadata": {},
     "output_type": "execute_result"
    }
   ],
   "source": [
    "cond = names == \"Bob\"\n",
    "data[~cond]"
   ]
  },
  {
   "cell_type": "code",
   "execution_count": 86,
   "metadata": {},
   "outputs": [
    {
     "data": {
      "text/plain": [
       "array([[ 4,  7],\n",
       "       [-5,  6],\n",
       "       [ 0,  0],\n",
       "       [ 1,  2]])"
      ]
     },
     "execution_count": 86,
     "metadata": {},
     "output_type": "execute_result"
    }
   ],
   "source": [
    "mask = (names == \"Bob\") | (names == \"Will\")\n",
    "mask\n",
    "data[mask]"
   ]
  },
  {
   "cell_type": "code",
   "execution_count": 87,
   "metadata": {},
   "outputs": [
    {
     "data": {
      "text/plain": [
       "array([[  4,   7],\n",
       "       [  0,   2],\n",
       "       [ -5,   6],\n",
       "       [  0,   0],\n",
       "       [  1,   2],\n",
       "       [-12,  -4],\n",
       "       [  3,   4]])"
      ]
     },
     "execution_count": 87,
     "metadata": {},
     "output_type": "execute_result"
    }
   ],
   "source": [
    "data"
   ]
  },
  {
   "cell_type": "code",
   "execution_count": 88,
   "metadata": {},
   "outputs": [
    {
     "data": {
      "text/plain": [
       "array([[4, 7],\n",
       "       [0, 2],\n",
       "       [0, 6],\n",
       "       [0, 0],\n",
       "       [1, 2],\n",
       "       [0, 0],\n",
       "       [3, 4]])"
      ]
     },
     "execution_count": 88,
     "metadata": {},
     "output_type": "execute_result"
    }
   ],
   "source": [
    "data[data < 0] = 0\n",
    "data"
   ]
  },
  {
   "cell_type": "code",
   "execution_count": 89,
   "metadata": {},
   "outputs": [
    {
     "data": {
      "text/plain": [
       "array([[7, 7],\n",
       "       [0, 2],\n",
       "       [7, 7],\n",
       "       [7, 7],\n",
       "       [7, 7],\n",
       "       [0, 0],\n",
       "       [3, 4]])"
      ]
     },
     "execution_count": 89,
     "metadata": {},
     "output_type": "execute_result"
    }
   ],
   "source": [
    "data[names != \"Joe\"] = 7\n",
    "data"
   ]
  },
  {
   "cell_type": "markdown",
   "metadata": {},
   "source": [
    "### 1.5. Fancy Indexing"
   ]
  },
  {
   "cell_type": "code",
   "execution_count": 90,
   "metadata": {},
   "outputs": [
    {
     "data": {
      "text/plain": [
       "array([[0., 0., 0., 0.],\n",
       "       [1., 1., 1., 1.],\n",
       "       [2., 2., 2., 2.],\n",
       "       [3., 3., 3., 3.],\n",
       "       [4., 4., 4., 4.],\n",
       "       [5., 5., 5., 5.],\n",
       "       [6., 6., 6., 6.],\n",
       "       [7., 7., 7., 7.]])"
      ]
     },
     "execution_count": 90,
     "metadata": {},
     "output_type": "execute_result"
    }
   ],
   "source": [
    "arr = np.zeros((8, 4))\n",
    "for i in range(8):\n",
    "    arr[i] = i\n",
    "arr"
   ]
  },
  {
   "cell_type": "code",
   "execution_count": 91,
   "metadata": {},
   "outputs": [
    {
     "data": {
      "text/plain": [
       "array([[4., 4., 4., 4.],\n",
       "       [3., 3., 3., 3.],\n",
       "       [0., 0., 0., 0.],\n",
       "       [6., 6., 6., 6.]])"
      ]
     },
     "execution_count": 91,
     "metadata": {},
     "output_type": "execute_result"
    }
   ],
   "source": [
    "arr[[4, 3, 0, 6]]"
   ]
  },
  {
   "cell_type": "code",
   "execution_count": 92,
   "metadata": {},
   "outputs": [
    {
     "data": {
      "text/plain": [
       "array([[5., 5., 5., 5.],\n",
       "       [3., 3., 3., 3.],\n",
       "       [1., 1., 1., 1.]])"
      ]
     },
     "execution_count": 92,
     "metadata": {},
     "output_type": "execute_result"
    }
   ],
   "source": [
    "arr[[-3, -5, -7]]"
   ]
  },
  {
   "cell_type": "code",
   "execution_count": 95,
   "metadata": {},
   "outputs": [
    {
     "data": {
      "text/plain": [
       "array([[ 0,  1,  2,  3],\n",
       "       [ 4,  5,  6,  7],\n",
       "       [ 8,  9, 10, 11],\n",
       "       [12, 13, 14, 15],\n",
       "       [16, 17, 18, 19],\n",
       "       [20, 21, 22, 23],\n",
       "       [24, 25, 26, 27],\n",
       "       [28, 29, 30, 31]])"
      ]
     },
     "execution_count": 95,
     "metadata": {},
     "output_type": "execute_result"
    }
   ],
   "source": [
    "arr = np.arange(32).reshape((8, 4))\n",
    "arr"
   ]
  },
  {
   "cell_type": "code",
   "execution_count": null,
   "metadata": {},
   "outputs": [
    {
     "data": {
      "text/plain": [
       "array([ 4, 23, 29, 10])"
      ]
     },
     "execution_count": 96,
     "metadata": {},
     "output_type": "execute_result"
    }
   ],
   "source": [
    "# 행 인덱스와 열 인덱스가 매칭되어 특정 위치의 요소를 선택\n",
    "# 결과는 4개의 개별 요소들\n",
    "# arr[1, 0], arr[5, 3], arr[7, 1], arr[2, 2]\n",
    "# 이는 1차원 배열로 반환됨\n",
    "\n",
    "arr[[1, 5, 7, 2], [0, 3, 1, 2]]"
   ]
  },
  {
   "cell_type": "code",
   "execution_count": null,
   "metadata": {},
   "outputs": [
    {
     "data": {
      "text/plain": [
       "array([[ 4,  7,  5,  6],\n",
       "       [20, 23, 21, 22],\n",
       "       [28, 31, 29, 30],\n",
       "       [ 8, 11,  9, 10]])"
      ]
     },
     "execution_count": 94,
     "metadata": {},
     "output_type": "execute_result"
    }
   ],
   "source": [
    "# 결과는 2차원 배열\n",
    "# 4행 × 4열의 부분 배열\n",
    "# 선택된 행들의 모든 열 중에서 지정된 열들만 선택\n",
    "\n",
    "arr[[1, 5, 7, 2]][:, [0, 3, 1, 2]]"
   ]
  },
  {
   "cell_type": "code",
   "execution_count": 97,
   "metadata": {},
   "outputs": [
    {
     "data": {
      "text/plain": [
       "array([[ 0,  1,  2,  3],\n",
       "       [ 0,  5,  6,  7],\n",
       "       [ 8,  9,  0, 11],\n",
       "       [12, 13, 14, 15],\n",
       "       [16, 17, 18, 19],\n",
       "       [20, 21, 22,  0],\n",
       "       [24, 25, 26, 27],\n",
       "       [28,  0, 30, 31]])"
      ]
     },
     "execution_count": 97,
     "metadata": {},
     "output_type": "execute_result"
    }
   ],
   "source": [
    "arr[[1, 5, 7, 2], [0, 3, 1, 2]]\n",
    "arr[[1, 5, 7, 2], [0, 3, 1, 2]] = 0\n",
    "arr"
   ]
  },
  {
   "cell_type": "markdown",
   "metadata": {},
   "source": [
    "### 1.6. 배열 전치 및 축 교체"
   ]
  },
  {
   "cell_type": "code",
   "execution_count": 98,
   "metadata": {},
   "outputs": [
    {
     "data": {
      "text/plain": [
       "array([[ 0,  5, 10],\n",
       "       [ 1,  6, 11],\n",
       "       [ 2,  7, 12],\n",
       "       [ 3,  8, 13],\n",
       "       [ 4,  9, 14]])"
      ]
     },
     "execution_count": 98,
     "metadata": {},
     "output_type": "execute_result"
    }
   ],
   "source": [
    "arr = np.arange(15).reshape((3, 5))\n",
    "arr\n",
    "arr.T"
   ]
  },
  {
   "cell_type": "code",
   "execution_count": 99,
   "metadata": {},
   "outputs": [
    {
     "data": {
      "text/plain": [
       "array([[39, 20, 12],\n",
       "       [20, 14,  2],\n",
       "       [12,  2, 10]])"
      ]
     },
     "execution_count": 99,
     "metadata": {},
     "output_type": "execute_result"
    }
   ],
   "source": [
    "arr = np.array([[0, 1, 0], [1, 2, -2], [6, 3, 2], [-1, 0, -1], [1, 0, 1]])\n",
    "arr\n",
    "np.dot(arr.T, arr)"
   ]
  },
  {
   "cell_type": "code",
   "execution_count": 100,
   "metadata": {},
   "outputs": [
    {
     "data": {
      "text/plain": [
       "array([[39, 20, 12],\n",
       "       [20, 14,  2],\n",
       "       [12,  2, 10]])"
      ]
     },
     "execution_count": 100,
     "metadata": {},
     "output_type": "execute_result"
    }
   ],
   "source": [
    "arr.T @ arr"
   ]
  },
  {
   "cell_type": "code",
   "execution_count": 101,
   "metadata": {},
   "outputs": [
    {
     "data": {
      "text/plain": [
       "array([[ 0,  1,  6, -1,  1],\n",
       "       [ 1,  2,  3,  0,  0],\n",
       "       [ 0, -2,  2, -1,  1]])"
      ]
     },
     "execution_count": 101,
     "metadata": {},
     "output_type": "execute_result"
    }
   ],
   "source": [
    "arr\n",
    "arr.swapaxes(0, 1)"
   ]
  },
  {
   "cell_type": "markdown",
   "metadata": {},
   "source": [
    "## 2. Pseudorandom Number Generation  \n",
    "\n",
    "  \n",
    "\n",
    "- numpy.random : 다양한 확률 분포에서 표본 값의 전체 배열을 생성하는 함수.  \n",
    "\n",
    "- np.random.standard_normal(size) : 표준 정규 분포에서의 배열 생성 <-> 파이썬 내의 random 내장 모듈 대비 빠른 속도를 가짐.  \n",
    "\n",
    "- seed  \n",
    "    - generaotr의 초기 상태를 결정하는 인수.  \n",
    "    - 동일 seed를 사용하면 항상 동일한 난수 시퀀스를 생성함.  \n",
    "    - 프로그램을 재실행하는 경우에도 동일한 결과를 얻을 수 있음.  \n",
    "\n",
    "- 단, 난수의 경우 생성할 때마다 난수 생성기 내부의 상태가 자동으로 업데이트됨.  \n",
    "- 즉, random seed를 통해 하나의 난수 객체를 생성한 경우에도, 해당 객체를 사용할 때마다 상태가 변경되는 이슈가 존재함.  \n",
    "\n",
    "    ```python  \n",
    "    rng = np.random.default_rng(seed=12345)\n",
    "\n",
    "    # 첫 번째 호출\n",
    "    print(\"첫 번째:\", rng.standard_normal(3))  # [0.123, 0.456, 0.789]\n",
    "\n",
    "    # 두 번째 호출 (상태가 변경됨)\n",
    "    print(\"두 번째:\", rng.standard_normal(3))  # [0.321, 0.654, 0.987] - 다른 값!\n",
    "\n",
    "    # 세 번째 호출 (상태가 또 변경됨)\n",
    "    print(\"세 번째:\", rng.standard_normal(3))  # [0.555, 0.777, 0.999] - 또 다른 값!\n",
    "    ```  \n",
    "\n",
    "- 이는 np.random 모듈이 전역 상태를 공유하기 때문이며, 이로 인해 다른 코드에서 np.random 사용 시 예상치 못한 결과가 발생할 수 있음.  \n",
    "\n",
    "- 따라서, np.random.default_rng를 사용하여 필요한 객체를 동일 시드 기반으로 따로 생성하여 관리하고 사용하는 방법을 권장함.  \n",
    "\n",
    "    ```python  \n",
    "    # 실험용 데이터 생성\n",
    "    rng = np.random.default_rng(seed=12345)\n",
    "\n",
    "    # 실험 1\n",
    "    experiment1_data = rng.standard_normal(100)\n",
    "\n",
    "    # 실험 2 (같은 시드로 재시작)\n",
    "    rng2 = np.random.default_rng(seed=12345)\n",
    "    experiment2_data = rng2.standard_normal(100)\n",
    "\n",
    "    # 두 실험의 결과가 동일함\n",
    "    print(np.array_equal(experiment1_data, experiment2_data))  # True\n",
    "    ```  \n",
    "\n",
    "- random generator functions  \n",
    "\n",
    "    | Method | Description |\n",
    "    |--------|-------------|\n",
    "    | permutation | 시퀀스의 무작위 순열을 반환하거나, 순열된 범위를 반환 |\n",
    "    | shuffle | 시퀀스를 제자리에서 무작위로 섞음 |\n",
    "    | uniform | 균등 분포에서 샘플을 추출 |\n",
    "    | integers | 주어진 낮은 값부터 높은 값까지의 범위에서 무작위 정수를 추출 |\n",
    "    | standard_normal | 평균 0, 표준편차 1인 정규 분포에서 샘플을 추출 |\n",
    "    | binomial | 이항 분포에서 샘플을 추출 |\n",
    "    | normal | 정규(가우시안) 분포에서 샘플을 추출 |\n",
    "    | beta | 베타 분포에서 샘플을 추출 |\n",
    "    | chisquare | 카이제곱 분포에서 샘플을 추출 |\n",
    "    | gamma | 감마 분포에서 샘플을 추출 |\n",
    "    | uniform | 균등 [0, 1) 분포에서 샘플을 추출 |"
   ]
  },
  {
   "cell_type": "code",
   "execution_count": 4,
   "metadata": {},
   "outputs": [
    {
     "data": {
      "text/plain": [
       "array([[-2.0016, -0.3718,  1.669 , -0.4386],\n",
       "       [-0.5397,  0.477 ,  3.2489, -1.0212],\n",
       "       [-0.5771,  0.1241,  0.3026,  0.5238],\n",
       "       [ 0.0009,  1.3438, -0.7135, -0.8312]])"
      ]
     },
     "execution_count": 4,
     "metadata": {},
     "output_type": "execute_result"
    }
   ],
   "source": [
    "samples = np.random.standard_normal(size=(4, 4))\n",
    "samples"
   ]
  },
  {
   "cell_type": "code",
   "execution_count": null,
   "metadata": {},
   "outputs": [
    {
     "name": "stdout",
     "output_type": "stream",
     "text": [
      "196 ms ± 1.57 ms per loop (mean ± std. dev. of 7 runs, 1 loop each)\n",
      "9.57 ms ± 299 μs per loop (mean ± std. dev. of 7 runs, 100 loops each)\n"
     ]
    }
   ],
   "source": [
    "from random import normalvariate\n",
    "\n",
    "N = 1_000_000\n",
    "%timeit samples = [normalvariate(0, 1) for _ in range(N)] # 한번의 실행에서 한번의 샘플만을 생성\n",
    "%timeit np.random.standard_normal(N) # 한번의 실행에서 여러번의 샘플을 생성"
   ]
  },
  {
   "cell_type": "code",
   "execution_count": 6,
   "metadata": {},
   "outputs": [],
   "source": [
    "rng = np.random.default_rng(seed=12345)\n",
    "data = rng.standard_normal((2, 3))"
   ]
  },
  {
   "cell_type": "code",
   "execution_count": 7,
   "metadata": {},
   "outputs": [
    {
     "data": {
      "text/plain": [
       "numpy.random._generator.Generator"
      ]
     },
     "execution_count": 7,
     "metadata": {},
     "output_type": "execute_result"
    }
   ],
   "source": [
    "type(rng)"
   ]
  },
  {
   "cell_type": "code",
   "execution_count": 8,
   "metadata": {},
   "outputs": [
    {
     "name": "stdout",
     "output_type": "stream",
     "text": [
      "첫 번째: [-1.4238  1.2637 -0.8707]\n",
      "두 번째: [-0.2592 -0.0753 -0.7409]\n",
      "세 번째: [-1.3678  0.6489  0.3611]\n"
     ]
    }
   ],
   "source": [
    "rng = np.random.default_rng(seed=12345)\n",
    "\n",
    "# 첫 번째 호출\n",
    "print(\"첫 번째:\", rng.standard_normal(3))  # [0.123, 0.456, 0.789]\n",
    "\n",
    "# 두 번째 호출 (상태가 변경됨)\n",
    "print(\"두 번째:\", rng.standard_normal(3))  # [0.321, 0.654, 0.987] - 다른 값!\n",
    "\n",
    "# 세 번째 호출 (상태가 또 변경됨)\n",
    "print(\"세 번째:\", rng.standard_normal(3))  # [0.555, 0.777, 0.999] - 또 다른 값!"
   ]
  },
  {
   "cell_type": "code",
   "execution_count": 9,
   "metadata": {},
   "outputs": [
    {
     "name": "stdout",
     "output_type": "stream",
     "text": [
      "True\n"
     ]
    }
   ],
   "source": [
    "rng = np.random.default_rng(seed=12345)\n",
    "\n",
    "# 실험 1\n",
    "experiment1_data = rng.standard_normal(100)\n",
    "\n",
    "# 실험 2 (같은 시드로 재시작)\n",
    "rng2 = np.random.default_rng(seed=12345)\n",
    "experiment2_data = rng2.standard_normal(100)\n",
    "\n",
    "# 두 실험의 결과가 동일함\n",
    "print(np.array_equal(experiment1_data, experiment2_data))  # True"
   ]
  },
  {
   "cell_type": "code",
   "execution_count": 10,
   "metadata": {},
   "outputs": [
    {
     "name": "stdout",
     "output_type": "stream",
     "text": [
      "=== permutation ===\n",
      "원본: [1 2 3 4 5]\n",
      "순열: [5 4 1 3 2]\n",
      "0-9 범위 순열: [0 2 9 6 4 1 5 7 3 8]\n",
      "\n",
      "=== shuffle ===\n",
      "섞기 전: [1 2 3 4 5]\n",
      "섞은 후: [1 5 3 4 2]\n",
      "\n",
      "=== uniform ===\n",
      "균등 분포 샘플 (0-10): [0.959  4.4184 8.8648 6.9745 3.2647]\n",
      "\n",
      "=== integers ===\n",
      "정수 샘플 (1-9): [7 2 7 7 2]\n",
      "\n",
      "=== standard_normal ===\n",
      "표준 정규 분포 샘플: [ 1.3223 -0.2997  0.9029 -1.6216 -0.1582]\n",
      "\n",
      "=== binomial ===\n",
      "이항 분포 샘플 (n=10, p=0.5): [6 4 3 3 5]\n",
      "\n",
      "=== normal ===\n",
      "정규 분포 샘플 (평균=5, 표준편차=2): [6.5547 6.6573 3.082  2.5812 2.1754]\n",
      "\n",
      "=== beta ===\n",
      "베타 분포 샘플 (α=2, β=5): [0.4218 0.3153 0.3682 0.4584 0.2572]\n",
      "\n",
      "=== chisquare ===\n",
      "카이제곱 분포 샘플 (자유도=3): [1.0028 0.3012 0.5313 3.5145 2.5509]\n",
      "\n",
      "=== gamma ===\n",
      "감마 분포 샘플 (형상=2, 척도=3): [2.3605 1.729  1.3201 1.8443 7.3682]\n",
      "\n",
      "=== uniform [0, 1) ===\n",
      "균등 [0, 1) 분포 샘플: [0.7599 0.2493 0.0856 0.6181 0.537 ]\n"
     ]
    }
   ],
   "source": [
    "# 난수 생성기 초기화\n",
    "rng = np.random.default_rng(seed=12345)\n",
    "\n",
    "# 1. permutation - 시퀀스의 무작위 순열을 반환하거나, 순열된 범위를 반환\n",
    "print(\"=== permutation ===\")\n",
    "arr = np.array([1, 2, 3, 4, 5])\n",
    "permuted = rng.permutation(arr)\n",
    "print(f\"원본: {arr}\")\n",
    "print(f\"순열: {permuted}\")\n",
    "\n",
    "# 범위의 순열\n",
    "permuted_range = rng.permutation(10)\n",
    "print(f\"0-9 범위 순열: {permuted_range}\")\n",
    "\n",
    "# 2. shuffle - 시퀀스를 제자리에서 무작위로 섞음\n",
    "print(\"\\n=== shuffle ===\")\n",
    "arr_to_shuffle = np.array([1, 2, 3, 4, 5])\n",
    "print(f\"섞기 전: {arr_to_shuffle}\")\n",
    "rng.shuffle(arr_to_shuffle)\n",
    "print(f\"섞은 후: {arr_to_shuffle}\")\n",
    "\n",
    "# 3. uniform - 균등 분포에서 샘플을 추출\n",
    "print(\"\\n=== uniform ===\")\n",
    "uniform_samples = rng.uniform(0, 10, size=5)\n",
    "print(f\"균등 분포 샘플 (0-10): {uniform_samples}\")\n",
    "\n",
    "# 4. integers - 주어진 낮은 값부터 높은 값까지의 범위에서 무작위 정수를 추출\n",
    "print(\"\\n=== integers ===\")\n",
    "int_samples = rng.integers(1, 10, size=5)\n",
    "print(f\"정수 샘플 (1-9): {int_samples}\")\n",
    "\n",
    "# 5. standard_normal - 평균 0, 표준편차 1인 정규 분포에서 샘플을 추출\n",
    "print(\"\\n=== standard_normal ===\")\n",
    "normal_samples = rng.standard_normal(5)\n",
    "print(f\"표준 정규 분포 샘플: {normal_samples}\")\n",
    "\n",
    "# 6. binomial - 이항 분포에서 샘플을 추출\n",
    "print(\"\\n=== binomial ===\")\n",
    "binomial_samples = rng.binomial(10, 0.5, size=5)\n",
    "print(f\"이항 분포 샘플 (n=10, p=0.5): {binomial_samples}\")\n",
    "\n",
    "# 7. normal - 정규(가우시안) 분포에서 샘플을 추출\n",
    "print(\"\\n=== normal ===\")\n",
    "normal_samples = rng.normal(5, 2, size=5)\n",
    "print(f\"정규 분포 샘플 (평균=5, 표준편차=2): {normal_samples}\")\n",
    "\n",
    "# 8. beta - 베타 분포에서 샘플을 추출\n",
    "print(\"\\n=== beta ===\")\n",
    "beta_samples = rng.beta(2, 5, size=5)\n",
    "print(f\"베타 분포 샘플 (α=2, β=5): {beta_samples}\")\n",
    "\n",
    "# 9. chisquare - 카이제곱 분포에서 샘플을 추출\n",
    "print(\"\\n=== chisquare ===\")\n",
    "chi_samples = rng.chisquare(3, size=5)\n",
    "print(f\"카이제곱 분포 샘플 (자유도=3): {chi_samples}\")\n",
    "\n",
    "# 10. gamma - 감마 분포에서 샘플을 추출\n",
    "print(\"\\n=== gamma ===\")\n",
    "gamma_samples = rng.gamma(2, 3, size=5)\n",
    "print(f\"감마 분포 샘플 (형상=2, 척도=3): {gamma_samples}\")\n",
    "\n",
    "# 11. uniform - 균등 [0, 1) 분포에서 샘플을 추출\n",
    "print(\"\\n=== uniform [0, 1) ===\")\n",
    "uniform_01_samples = rng.uniform(0, 1, size=5)\n",
    "print(f\"균등 [0, 1) 분포 샘플: {uniform_01_samples}\")"
   ]
  },
  {
   "cell_type": "markdown",
   "metadata": {},
   "source": [
    "## 3. Universal Functions: Fast Element-Wise Array Functions  \n",
    "\n",
    "- ndarray에 있는 데이터의 요소별 연산  \n",
    "- 하나 이상의 스칼라 값을 받아서 하나 이상의 스칼라 결과를 생성하는 함수를 간단히 벡터화하여 래퍼로 사용함.  \n",
    "\n",
    "- unary ufunc  \n",
    "\n",
    "    | Function | Description |\n",
    "    |----------|-------------|\n",
    "    | abs, fabs | 정수, 부동소수점 또는 복소수 값에 대해 요소별 절댓값 계산 |\n",
    "    | sqrt | 각 요소의 제곱근 계산 (arr ** 0.5와 동일) |\n",
    "    | square | 각 요소의 제곱 계산 (arr ** 2와 동일) |\n",
    "    | exp | 각 요소의 지수 ex 계산 |\n",
    "    | log, log10, log2, log1p | 각각 자연 로그(밑 e), 밑 10 로그, 밑 2 로그, log(1 + x) |\n",
    "    | sign | 각 요소의 부호 계산: 1 (양수), 0 (영), -1 (음수) |\n",
    "    | ceil | 각 요소의 천장값 계산 (즉, 그 수보다 크거나 같은 가장 작은 정수) |\n",
    "    | floor | 각 요소의 바닥값 계산 (즉, 각 요소보다 작거나 같은 가장 큰 정수) |\n",
    "    | rint | dtype을 유지하면서 요소들을 가장 가까운 정수로 반올림 |\n",
    "    | modf | 배열의 소수 부분과 정수 부분을 별도의 배열로 반환 |\n",
    "    | isnan | 각 값이 NaN(Not a Number)인지 나타내는 불린 배열 반환 |\n",
    "    | isfinite, isinf | 각 요소가 유한한지(무한대가 아니고 NaN이 아닌지) 또는 무한대인지 나타내는 불린 배열 반환 |\n",
    "    | cos, cosh, sin, sinh, tan, tanh | 일반 및 쌍곡선 삼각 함수 |\n",
    "    | arccos, arccosh, arcsin, arcsinh, arctan, arctanh | 역삼각 함수 |\n",
    "    | logical_not | 요소별로 not x의 진리값 계산 (~arr와 동일) |  \n",
    "\n",
    "<br>\n",
    "  \n",
    "\n",
    "- binary ufuncs : 두 개의 배열을 가져와 결과로 단일 배열을 반환  \n",
    "    | Function | Description |\n",
    "    |----------|-------------|\n",
    "    | add | 배열에서 해당하는 요소들을 더함 |\n",
    "    | subtract | 첫 번째 배열에서 두 번째 배열의 요소들을 뺌 |\n",
    "    | multiply | 배열 요소들을 곱함 |\n",
    "    | divide, floor_divide | 나누기 또는 바닥 나누기 (나머지 버림) |\n",
    "    | power | 첫 번째 배열의 요소들을 두 번째 배열에 표시된 거듭제곱으로 올림 |\n",
    "    | maximum, fmax | 요소별 최댓값; fmax는 NaN을 무시함 |\n",
    "    | minimum, fmin | 요소별 최솟값; fmin은 NaN을 무시함 |\n",
    "    | mod | 요소별 모듈러스 (나눗셈의 나머지) |\n",
    "    | copysign | 두 번째 인수의 부호를 첫 번째 인수의 값에 복사 |\n",
    "    | greater, greater_equal, less, less_equal, equal, not_equal | 요소별 비교를 수행하여 불린 배열 생성 (중위 연산자 >, >=, <, <=, ==, !=와 동일) |\n",
    "    | logical_and | AND (&) 논리 연산의 요소별 진리값 계산 |\n",
    "    | logical_or | OR 논리 연산의 요소별 진리값 계산 |\n",
    "    | logical_xor | XOR (^) 논리 연산의 요소별 진리값 계산 |  \n",
    "\n",
    "    <br>\n",
    "\n",
    "- 여러 배열을 반환하는 ufunc  \n",
    "    - np.modf(arr) : 부동 소수점 배열의 정수 부분과 소수 부분을 분리하여 반환 \n",
    "\n",
    "- argument : out : 새 배열을 만드는 대신 기존 배열에 결과를 할당할 수 있는 선택적 인수를 허용  \n",
    "    - np.add(arr, 1, out=arr_name)  "
   ]
  },
  {
   "cell_type": "code",
   "execution_count": 11,
   "metadata": {},
   "outputs": [
    {
     "data": {
      "text/plain": [
       "array([   1.    ,    2.7183,    7.3891,   20.0855,   54.5982,  148.4132,\n",
       "        403.4288, 1096.6332, 2980.958 , 8103.0839])"
      ]
     },
     "execution_count": 11,
     "metadata": {},
     "output_type": "execute_result"
    }
   ],
   "source": [
    "arr = np.arange(10)\n",
    "arr\n",
    "np.sqrt(arr)\n",
    "np.exp(arr)"
   ]
  },
  {
   "cell_type": "code",
   "execution_count": 13,
   "metadata": {},
   "outputs": [
    {
     "name": "stdout",
     "output_type": "stream",
     "text": [
      "[-0.3595 -0.7486 -0.9655  0.36   -0.2446 -1.9959 -0.1552  1.0638]\n",
      "[-0.2752 -1.8533 -0.1243  0.785   0.202  -0.4281  1.8483  1.9   ]\n"
     ]
    },
    {
     "data": {
      "text/plain": [
       "array([-0.2752, -0.7486, -0.1243,  0.785 ,  0.202 , -0.4281,  1.8483,\n",
       "        1.9   ])"
      ]
     },
     "execution_count": 13,
     "metadata": {},
     "output_type": "execute_result"
    }
   ],
   "source": [
    "x = rng.standard_normal(8)\n",
    "y = rng.standard_normal(8)\n",
    "print(x)\n",
    "print(y)\n",
    "np.maximum(x, y)"
   ]
  },
  {
   "cell_type": "code",
   "execution_count": 15,
   "metadata": {},
   "outputs": [
    {
     "name": "stdout",
     "output_type": "stream",
     "text": [
      "[-3.2675 -4.0594 -0.1277  5.7909  1.5026  0.2653  1.2864]\n",
      "[-0.2675 -0.0594 -0.1277  0.7909  0.5026  0.2653  0.2864]\n",
      "[-3. -4. -0.  5.  1.  0.  1.]\n"
     ]
    }
   ],
   "source": [
    "arr = rng.standard_normal(7) * 5\n",
    "print(arr)\n",
    "\n",
    "remainder, whole_part = np.modf(arr)\n",
    "print(remainder)\n",
    "\n",
    "print(whole_part)"
   ]
  },
  {
   "cell_type": "code",
   "execution_count": 16,
   "metadata": {},
   "outputs": [
    {
     "name": "stdout",
     "output_type": "stream",
     "text": [
      "[-3.2675 -4.0594 -0.1277  5.7909  1.5026  0.2653  1.2864]\n",
      "[-2.2675 -3.0594  0.8723  6.7909  2.5026  1.2653  2.2864]\n"
     ]
    }
   ],
   "source": [
    "print(arr)\n",
    "\n",
    "out = np.zeros_like(arr)\n",
    "np.add(arr, 1)\n",
    "\n",
    "np.add(arr, 1, out=out)\n",
    "print(out)"
   ]
  },
  {
   "cell_type": "markdown",
   "metadata": {},
   "source": [
    "## 4. Array-Oriented Programming with Arrays  \n",
    "\n",
    "- 벡터화 : 명시적인 루프를 단일 배열 표현식으로 대체하는 방식  \n",
    "- 일반적인 python 연산 대비 훨씬 빠르며, 모든 종류의 수치 연산에 큰 영향을 미침  \n",
    "\n",
    "<br>  \n",
    "\n",
    "### 1. Expressing Conditional Logic as Array Operations  \n",
    "\n",
    "- np.where(boolean condition, argument1, argument2)  \n",
    "\n",
    "<br>  \n",
    "\n",
    "### 2. Mathematical and Statistical Methods  \n",
    "\n",
    "- n차원 배열에 대한 수학 연산 수행 : 전체 배열에 대한 연산, 특정 축(axis)을 지정한 연산  \n",
    "    - axis = 0 : 열 별 연산 (각 행, 동일 열에 대한 연산)  \n",
    "    - axis = 1 : 행 별 연산 (각 열, 동일 행에 대한 연산)      \n",
    "\n",
    "        | Method | Description |\n",
    "        |--------|-------------|\n",
    "        | sum | 배열의 모든 요소 또는 축을 따라 합계; 길이가 0인 배열의 합은 0 |\n",
    "        | mean | 산술 평균; 길이가 0인 배열에서는 유효하지 않음 (NaN 반환) |\n",
    "        | std, var | 각각 표준편차와 분산 |\n",
    "        | min, max | 최솟값과 최댓값 |\n",
    "        | argmin, argmax | 각각 최솟값과 최댓값 요소의 인덱스 |\n",
    "        | cumsum | 0부터 시작하는 요소들의 누적 합계 |\n",
    "        | cumprod | 1부터 시작하는 요소들의 누적 곱 |  \n",
    "\n",
    "<br>\n",
    "\n"
   ]
  },
  {
   "cell_type": "code",
   "execution_count": 23,
   "metadata": {},
   "outputs": [
    {
     "name": "stdout",
     "output_type": "stream",
     "text": [
      "x: [1 2 3]\n",
      "y: [4 5 6]\n",
      "\n",
      "X 격자:\n",
      "[[1 2 3]\n",
      " [1 2 3]\n",
      " [1 2 3]]\n",
      "\n",
      "Y 격자:\n",
      "[[4 4 4]\n",
      " [5 5 5]\n",
      " [6 6 6]]\n"
     ]
    }
   ],
   "source": [
    "# 1차원 배열들\n",
    "x = np.array([1, 2, 3])\n",
    "y = np.array([4, 5, 6])\n",
    "\n",
    "# meshgrid 생성\n",
    "X, Y = np.meshgrid(x, y)\n",
    "\n",
    "print(\"x:\", x)\n",
    "print(\"y:\", y)\n",
    "print(\"\\nX 격자:\")\n",
    "print(X)\n",
    "print(\"\\nY 격자:\")\n",
    "print(Y)"
   ]
  },
  {
   "cell_type": "code",
   "execution_count": 29,
   "metadata": {},
   "outputs": [
    {
     "name": "stdout",
     "output_type": "stream",
     "text": [
      "xs\n",
      " [[-5.   -4.99 -4.98 ...  4.97  4.98  4.99]\n",
      " [-5.   -4.99 -4.98 ...  4.97  4.98  4.99]\n",
      " [-5.   -4.99 -4.98 ...  4.97  4.98  4.99]\n",
      " ...\n",
      " [-5.   -4.99 -4.98 ...  4.97  4.98  4.99]\n",
      " [-5.   -4.99 -4.98 ...  4.97  4.98  4.99]\n",
      " [-5.   -4.99 -4.98 ...  4.97  4.98  4.99]] \n",
      "\n",
      "ys\n",
      " [[-5.   -5.   -5.   ... -5.   -5.   -5.  ]\n",
      " [-4.99 -4.99 -4.99 ... -4.99 -4.99 -4.99]\n",
      " [-4.98 -4.98 -4.98 ... -4.98 -4.98 -4.98]\n",
      " ...\n",
      " [ 4.97  4.97  4.97 ...  4.97  4.97  4.97]\n",
      " [ 4.98  4.98  4.98 ...  4.98  4.98  4.98]\n",
      " [ 4.99  4.99  4.99 ...  4.99  4.99  4.99]]\n",
      "z\n",
      " [[7.0711 7.064  7.0569 ... 7.0499 7.0569 7.064 ]\n",
      " [7.064  7.0569 7.0499 ... 7.0428 7.0499 7.0569]\n",
      " [7.0569 7.0499 7.0428 ... 7.0357 7.0428 7.0499]\n",
      " ...\n",
      " [7.0499 7.0428 7.0357 ... 7.0286 7.0357 7.0428]\n",
      " [7.0569 7.0499 7.0428 ... 7.0357 7.0428 7.0499]\n",
      " [7.064  7.0569 7.0499 ... 7.0428 7.0499 7.0569]]\n"
     ]
    }
   ],
   "source": [
    "# 기존 방식\n",
    "# 이중 반복문으로 모든 (x, y) 쌍 처리\n",
    "# 개별 점에 대한 반복 연산\n",
    "# for x in x_values:\n",
    "#     for y in y_values:\n",
    "#         z = np.sqrt(x**2 + y**2)\n",
    "\n",
    "# meshgrid 방식\n",
    "# x, y의 좌표쌍 생성\n",
    "# 격자 전체에 대한 연산\n",
    "points = np.arange(-5, 5, 0.01) # 100 equally spaced points\n",
    "xs, ys = np.meshgrid(points, points)\n",
    "\n",
    "# print(\"points\\n\", points, '\\n')\n",
    "print(\"xs\\n\", xs, '\\n')\n",
    "print(\"ys\\n\", ys)\n",
    "\n",
    "# 원점에서부터 ~ 만들어진 xs, ys 좌표까지의 거리 공식\n",
    "z = np.sqrt(xs ** 2 + ys ** 2)\n",
    "print(\"z\\n\", z)"
   ]
  },
  {
   "cell_type": "code",
   "execution_count": 30,
   "metadata": {},
   "outputs": [
    {
     "name": "stderr",
     "output_type": "stream",
     "text": [
      "<>:5: SyntaxWarning: invalid escape sequence '\\s'\n",
      "<>:5: SyntaxWarning: invalid escape sequence '\\s'\n",
      "/var/folders/b3/l29h050d4932zk72sckd6_qh0000gn/T/ipykernel_3625/822730604.py:5: SyntaxWarning: invalid escape sequence '\\s'\n",
      "  plt.title(\"Image plot of $\\sqrt{x^2 + y^2}$ for a grid of values\")\n"
     ]
    },
    {
     "data": {
      "text/plain": [
       "Text(0.5, 1.0, 'Image plot of $\\\\sqrt{x^2 + y^2}$ for a grid of values')"
      ]
     },
     "execution_count": 30,
     "metadata": {},
     "output_type": "execute_result"
    },
    {
     "data": {
      "image/png": "[encoded data removed]",
      "text/plain": [
       "<Figure size 1000x600 with 2 Axes>"
      ]
     },
     "metadata": {},
     "output_type": "display_data"
    }
   ],
   "source": [
    "import matplotlib.pyplot as plt\n",
    "\n",
    "plt.imshow(z, cmap=plt.cm.gray, extent=[-5, 5, -5, 5])\n",
    "plt.colorbar()\n",
    "plt.title(\"Image plot of $\\sqrt{x^2 + y^2}$ for a grid of values\")"
   ]
  },
  {
   "cell_type": "markdown",
   "metadata": {},
   "source": [
    "### 4.1. Expressing Conditional Logic as Array Operations : np.where()"
   ]
  },
  {
   "cell_type": "code",
   "execution_count": 31,
   "metadata": {},
   "outputs": [],
   "source": [
    "xarr = np.array([1.1, 1.2, 1.3, 1.4, 1.5])\n",
    "yarr = np.array([2.1, 2.2, 2.3, 2.4, 2.5])\n",
    "cond = np.array([True, False, True, True, False])"
   ]
  },
  {
   "cell_type": "code",
   "execution_count": 32,
   "metadata": {},
   "outputs": [
    {
     "data": {
      "text/plain": [
       "[np.float64(1.1),\n",
       " np.float64(2.2),\n",
       " np.float64(1.3),\n",
       " np.float64(1.4),\n",
       " np.float64(2.5)]"
      ]
     },
     "execution_count": 32,
     "metadata": {},
     "output_type": "execute_result"
    }
   ],
   "source": [
    "# 기존 방식\n",
    "result = [(x if c else y)\n",
    "          for x, y, c in zip(xarr, yarr, cond)]\n",
    "result"
   ]
  },
  {
   "cell_type": "code",
   "execution_count": null,
   "metadata": {},
   "outputs": [
    {
     "data": {
      "text/plain": [
       "array([1.1, 2.2, 1.3, 1.4, 2.5])"
      ]
     },
     "execution_count": 33,
     "metadata": {},
     "output_type": "execute_result"
    }
   ],
   "source": [
    "# np.where 방식\n",
    "result = np.where(cond, xarr, yarr)\n",
    "result"
   ]
  },
  {
   "cell_type": "code",
   "execution_count": 35,
   "metadata": {},
   "outputs": [
    {
     "name": "stdout",
     "output_type": "stream",
     "text": [
      "arr\n",
      " [[-2.7224 -0.6733  1.2462  0.7902]\n",
      " [ 0.1753 -0.0293 -1.4195 -1.36  ]\n",
      " [ 0.2234  1.7618 -2.1709  0.6285]\n",
      " [ 0.6012  0.9508 -0.8692 -0.529 ]] \n",
      "\n",
      "arr > 0\n",
      " [[False False  True  True]\n",
      " [ True False False False]\n",
      " [ True  True False  True]\n",
      " [ True  True False False]]\n"
     ]
    },
    {
     "data": {
      "text/plain": [
       "array([[-2, -2,  2,  2],\n",
       "       [ 2, -2, -2, -2],\n",
       "       [ 2,  2, -2,  2],\n",
       "       [ 2,  2, -2, -2]])"
      ]
     },
     "execution_count": 35,
     "metadata": {},
     "output_type": "execute_result"
    }
   ],
   "source": [
    "arr = rng.standard_normal((4, 4))\n",
    "print(\"arr\\n\", arr, '\\n')\n",
    "\n",
    "print(\"arr > 0\\n\", arr > 0)\n",
    "\n",
    "np.where(arr > 0, 2, -2)"
   ]
  },
  {
   "cell_type": "code",
   "execution_count": 36,
   "metadata": {},
   "outputs": [
    {
     "data": {
      "text/plain": [
       "array([[-2.7224, -0.6733,  2.    ,  2.    ],\n",
       "       [ 2.    , -0.0293, -1.4195, -1.36  ],\n",
       "       [ 2.    ,  2.    , -2.1709,  2.    ],\n",
       "       [ 2.    ,  2.    , -0.8692, -0.529 ]])"
      ]
     },
     "execution_count": 36,
     "metadata": {},
     "output_type": "execute_result"
    }
   ],
   "source": [
    "np.where(arr > 0, 2, arr) # set only positive values to 2"
   ]
  },
  {
   "cell_type": "markdown",
   "metadata": {},
   "source": [
    "### 4.2. Mathematical and Statistical Methods  \n",
    "\n",
    "| Method | Description |\n",
    "|--------|-------------|\n",
    "| sum | 배열의 모든 요소 또는 축을 따라 합계; 길이가 0인 배열의 합은 0 |\n",
    "| mean | 산술 평균; 길이가 0인 배열에서는 유효하지 않음 (NaN 반환) |\n",
    "| std, var | 각각 표준편차와 분산 |\n",
    "| min, max | 최솟값과 최댓값 |\n",
    "| argmin, argmax | 각각 최솟값과 최댓값 요소의 인덱스 |\n",
    "| cumsum | 0부터 시작하는 요소들의 누적 합계 |\n",
    "| cumprod | 1부터 시작하는 요소들의 누적 곱 |"
   ]
  },
  {
   "cell_type": "code",
   "execution_count": 40,
   "metadata": {},
   "outputs": [
    {
     "name": "stdout",
     "output_type": "stream",
     "text": [
      "arr\n",
      " [[ 1.3975  0.292   0.6384 -0.0279]\n",
      " [ 1.3711 -2.0528  0.3805  0.7554]\n",
      " [-1.1591  2.1503 -0.1503 -0.1612]\n",
      " [-1.0794  0.878   0.2245 -0.5916]\n",
      " [ 0.2263  0.6862  1.215   0.2161]] \n",
      "\n",
      "arr.mean()\n",
      " 0.2604423035830764 \n",
      "\n",
      "np.mean(arr)\n",
      " 0.2604423035830764 \n",
      "\n",
      "arr.sum()\n",
      " 5.208846071661529 \n",
      "\n"
     ]
    }
   ],
   "source": [
    "arr = rng.standard_normal((5, 4))\n",
    "print(\"arr\\n\", arr, '\\n')\n",
    "\n",
    "print(\"arr.mean()\\n\", arr.mean(), '\\n')\n",
    "\n",
    "print(\"np.mean(arr)\\n\", np.mean(arr), '\\n')\n",
    "\n",
    "print(\"arr.sum()\\n\", arr.sum(), '\\n')"
   ]
  },
  {
   "cell_type": "code",
   "execution_count": 42,
   "metadata": {},
   "outputs": [
    {
     "name": "stdout",
     "output_type": "stream",
     "text": [
      "arr.mean(axis=1)\n",
      " [ 0.575   0.1135  0.1699 -0.1422  0.5859] \n",
      "\n",
      "arr.sum(axis=0)\n",
      " [0.7562 1.9537 2.3081 0.1908] \n",
      "\n"
     ]
    }
   ],
   "source": [
    "print(\"arr.mean(axis=1)\\n\", arr.mean(axis=1), '\\n') # 행 별 평균\n",
    "\n",
    "print(\"arr.sum(axis=0)\\n\", arr.sum(axis=0), '\\n') # 열 별 합\n"
   ]
  },
  {
   "cell_type": "code",
   "execution_count": 47,
   "metadata": {},
   "outputs": [
    {
     "name": "stdout",
     "output_type": "stream",
     "text": [
      "arr.cumsum()\n",
      " [ 0  1  3  6 10 15 21 28] \n",
      "\n",
      "np.cumsum(arr)\n",
      " [ 0  1  3  6 10 15 21 28] \n",
      "\n"
     ]
    }
   ],
   "source": [
    "arr = np.array([0, 1, 2, 3, 4, 5, 6, 7])\n",
    "\n",
    "print(\"arr.cumsum()\\n\", arr.cumsum(), '\\n')\n",
    "print(\"np.cumsum(arr)\\n\", np.cumsum(arr), '\\n')\n"
   ]
  },
  {
   "cell_type": "code",
   "execution_count": null,
   "metadata": {},
   "outputs": [
    {
     "name": "stdout",
     "output_type": "stream",
     "text": [
      "arr\n",
      " [[0 1 2]\n",
      " [3 4 5]\n",
      " [6 7 8]] \n",
      "\n",
      "arr.cumsum()\n",
      " [ 0  1  3  6 10 15 21 28 36] \n",
      "\n"
     ]
    }
   ],
   "source": [
    "arr = np.array([[0, 1, 2], [3, 4, 5], [6, 7, 8]])\n",
    "\n",
    "print(\"arr\\n\", arr, '\\n')\n",
    "print(\"arr.cumsum()\\n\", arr.cumsum(), '\\n')"
   ]
  },
  {
   "cell_type": "code",
   "execution_count": 46,
   "metadata": {},
   "outputs": [
    {
     "name": "stdout",
     "output_type": "stream",
     "text": [
      "arr.cumsum(axis=0)\n",
      " [[ 0  1  2]\n",
      " [ 3  5  7]\n",
      " [ 9 12 15]] \n",
      "\n",
      "arr.cumsum(axis=1)\n",
      " [[ 0  1  3]\n",
      " [ 3  7 12]\n",
      " [ 6 13 21]] \n",
      "\n"
     ]
    }
   ],
   "source": [
    "print(\"arr.cumsum(axis=0)\\n\", arr.cumsum(axis=0), '\\n')\n",
    "\n",
    "print(\"arr.cumsum(axis=1)\\n\", arr.cumsum(axis=1), '\\n')\n"
   ]
  },
  {
   "cell_type": "code",
   "execution_count": 83,
   "metadata": {},
   "outputs": [],
   "source": [
    "arr = rng.standard_normal(100)\n",
    "(arr > 0).sum() # Number of positive values\n",
    "(arr <= 0).sum() # Number of non-positive values"
   ]
  },
  {
   "cell_type": "code",
   "execution_count": 84,
   "metadata": {},
   "outputs": [],
   "source": [
    "bools = np.array([False, False, True, False])\n",
    "bools.any()\n",
    "bools.all()"
   ]
  },
  {
   "cell_type": "code",
   "execution_count": 85,
   "metadata": {},
   "outputs": [],
   "source": [
    "arr = rng.standard_normal(6)\n",
    "arr\n",
    "arr.sort()\n",
    "arr"
   ]
  },
  {
   "cell_type": "code",
   "execution_count": 86,
   "metadata": {},
   "outputs": [],
   "source": [
    "arr = rng.standard_normal((5, 3))\n",
    "arr"
   ]
  },
  {
   "cell_type": "code",
   "execution_count": 87,
   "metadata": {},
   "outputs": [],
   "source": [
    "arr.sort(axis=0)\n",
    "arr\n",
    "arr.sort(axis=1)\n",
    "arr"
   ]
  },
  {
   "cell_type": "code",
   "execution_count": 88,
   "metadata": {},
   "outputs": [],
   "source": [
    "arr2 = np.array([5, -10, 7, 1, 0, -3])\n",
    "sorted_arr2 = np.sort(arr2)\n",
    "sorted_arr2"
   ]
  },
  {
   "cell_type": "code",
   "execution_count": 89,
   "metadata": {},
   "outputs": [],
   "source": [
    "names = np.array([\"Bob\", \"Will\", \"Joe\", \"Bob\", \"Will\", \"Joe\", \"Joe\"])\n",
    "np.unique(names)\n",
    "ints = np.array([3, 3, 3, 2, 2, 1, 1, 4, 4])\n",
    "np.unique(ints)"
   ]
  },
  {
   "cell_type": "code",
   "execution_count": 90,
   "metadata": {},
   "outputs": [],
   "source": [
    "sorted(set(names))"
   ]
  },
  {
   "cell_type": "code",
   "execution_count": 91,
   "metadata": {},
   "outputs": [],
   "source": [
    "values = np.array([6, 0, 0, 3, 2, 5, 6])\n",
    "np.in1d(values, [2, 3, 6])"
   ]
  },
  {
   "cell_type": "code",
   "execution_count": 92,
   "metadata": {},
   "outputs": [],
   "source": [
    "arr = np.arange(10)\n",
    "np.save(\"some_array\", arr)"
   ]
  },
  {
   "cell_type": "code",
   "execution_count": 93,
   "metadata": {},
   "outputs": [],
   "source": [
    "np.load(\"some_array.npy\")"
   ]
  },
  {
   "cell_type": "code",
   "execution_count": 94,
   "metadata": {},
   "outputs": [],
   "source": [
    "np.savez(\"array_archive.npz\", a=arr, b=arr)"
   ]
  },
  {
   "cell_type": "code",
   "execution_count": 95,
   "metadata": {},
   "outputs": [],
   "source": [
    "arch = np.load(\"array_archive.npz\")\n",
    "arch[\"b\"]"
   ]
  },
  {
   "cell_type": "code",
   "execution_count": 96,
   "metadata": {},
   "outputs": [],
   "source": [
    "np.savez_compressed(\"arrays_compressed.npz\", a=arr, b=arr)"
   ]
  },
  {
   "cell_type": "code",
   "execution_count": 97,
   "metadata": {},
   "outputs": [],
   "source": [
    "!rm some_array.npy\n",
    "!rm array_archive.npz\n",
    "!rm arrays_compressed.npz"
   ]
  },
  {
   "cell_type": "code",
   "execution_count": 98,
   "metadata": {},
   "outputs": [],
   "source": [
    "x = np.array([[1., 2., 3.], [4., 5., 6.]])\n",
    "y = np.array([[6., 23.], [-1, 7], [8, 9]])\n",
    "x\n",
    "y\n",
    "x.dot(y)"
   ]
  },
  {
   "cell_type": "code",
   "execution_count": 99,
   "metadata": {},
   "outputs": [],
   "source": [
    "np.dot(x, y)"
   ]
  },
  {
   "cell_type": "code",
   "execution_count": 100,
   "metadata": {},
   "outputs": [],
   "source": [
    "x @ np.ones(3)"
   ]
  },
  {
   "cell_type": "code",
   "execution_count": 101,
   "metadata": {},
   "outputs": [],
   "source": [
    "from numpy.linalg import inv, qr\n",
    "X = rng.standard_normal((5, 5))\n",
    "mat = X.T @ X\n",
    "inv(mat)\n",
    "mat @ inv(mat)"
   ]
  },
  {
   "cell_type": "code",
   "execution_count": 102,
   "metadata": {},
   "outputs": [],
   "source": [
    "import random\n",
    "position = 0\n",
    "walk = [position]\n",
    "nsteps = 1000\n",
    "for _ in range(nsteps):\n",
    "    step = 1 if random.randint(0, 1) else -1\n",
    "    position += step\n",
    "    walk.append(position)\n"
   ]
  },
  {
   "cell_type": "code",
   "execution_count": 103,
   "metadata": {},
   "outputs": [],
   "source": [
    "plt.figure()"
   ]
  },
  {
   "cell_type": "code",
   "execution_count": 104,
   "metadata": {},
   "outputs": [],
   "source": [
    "plt.plot(walk[:100])"
   ]
  },
  {
   "cell_type": "code",
   "execution_count": 105,
   "metadata": {},
   "outputs": [],
   "source": [
    "nsteps = 1000\n",
    "rng = np.random.default_rng(seed=12345)  # fresh random generator\n",
    "draws = rng.integers(0, 2, size=nsteps)\n",
    "steps = np.where(draws == 0, 1, -1)\n",
    "walk = steps.cumsum()"
   ]
  },
  {
   "cell_type": "code",
   "execution_count": 106,
   "metadata": {},
   "outputs": [],
   "source": [
    "walk.min()\n",
    "walk.max()"
   ]
  },
  {
   "cell_type": "code",
   "execution_count": 107,
   "metadata": {},
   "outputs": [],
   "source": [
    "(np.abs(walk) >= 10).argmax()"
   ]
  },
  {
   "cell_type": "code",
   "execution_count": 108,
   "metadata": {},
   "outputs": [],
   "source": [
    "nwalks = 5000\n",
    "nsteps = 1000\n",
    "draws = rng.integers(0, 2, size=(nwalks, nsteps)) # 0 or 1\n",
    "steps = np.where(draws > 0, 1, -1)\n",
    "walks = steps.cumsum(axis=1)\n",
    "walks"
   ]
  },
  {
   "cell_type": "code",
   "execution_count": 109,
   "metadata": {},
   "outputs": [],
   "source": [
    "walks.max()\n",
    "walks.min()"
   ]
  },
  {
   "cell_type": "code",
   "execution_count": 110,
   "metadata": {},
   "outputs": [],
   "source": [
    "hits30 = (np.abs(walks) >= 30).any(axis=1)\n",
    "hits30\n",
    "hits30.sum() # Number that hit 30 or -30"
   ]
  },
  {
   "cell_type": "code",
   "execution_count": 111,
   "metadata": {},
   "outputs": [],
   "source": [
    "crossing_times = (np.abs(walks[hits30]) >= 30).argmax(axis=1)\n",
    "crossing_times"
   ]
  },
  {
   "cell_type": "code",
   "execution_count": 112,
   "metadata": {},
   "outputs": [],
   "source": [
    "crossing_times.mean()"
   ]
  },
  {
   "cell_type": "code",
   "execution_count": 113,
   "metadata": {},
   "outputs": [],
   "source": [
    "draws = 0.25 * rng.standard_normal((nwalks, nsteps))"
   ]
  },
  {
   "cell_type": "code",
   "execution_count": 114,
   "metadata": {},
   "outputs": [],
   "source": []
  }
 ],
 "metadata": {
  "kernelspec": {
   "display_name": ".venv",
   "language": "python",
   "name": "python3"
  },
  "language_info": {
   "codemirror_mode": {
    "name": "ipython",
    "version": 3
   },
   "file_extension": ".py",
   "mimetype": "text/x-python",
   "name": "python",
   "nbconvert_exporter": "python",
   "pygments_lexer": "ipython3",
   "version": "3.13.2"
  }
 },
 "nbformat": 4,
 "nbformat_minor": 4
}
